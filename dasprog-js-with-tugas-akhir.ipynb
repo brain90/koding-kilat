{
  "metadata": {
    "kernelspec": {
      "name": "javascript",
      "display_name": "JavaScript (Web Worker)",
      "language": "javascript"
    },
    "language_info": {
      "codemirror_mode": {
        "name": "javascript"
      },
      "file_extension": ".js",
      "mimetype": "text/javascript",
      "name": "javascript",
      "nbconvert_exporter": "javascript",
      "pygments_lexer": "javascript",
      "version": "es2017"
    }
  },
  "nbformat_minor": 4,
  "nbformat": 4,
  "cells": [
    {
      "cell_type": "markdown",
      "source": "# Pemrograman\n\nPemrograman, Programming, atau koding adalah tentang bagaimana kita memberi perintah pada mesin ( entah itu Drone, Laptop, Perangkat musik, Handphone, Server, Robot, Pesawat Terbang, Roket, Reaktor Nuklir, dsb). Perintah kita berikan agar mesin bisa bekerja sesuai dengan keinginan manusia. \n\nTiada lain tiada bukan. Agar hidup manusia lebih menyenangkan !\n\nAuthor: https://gibrain.wordpress.com",
      "metadata": {}
    },
    {
      "cell_type": "markdown",
      "source": "# Dasar Pemrograman Dengan Javascript",
      "metadata": {}
    },
    {
      "cell_type": "markdown",
      "source": "Tutorial Berikut menjabarkan konsep pemrograman menggunakan javascript ( JS ). Konsep ini berlaku di semua bahasa pemrograman. Dengan memahami konsep ini kamu akan dengan mudah menguasai javascript. Dan bahasa pemrograman lain ! \n\nAda 6 konsep yang akan kamu jelajahi. Klik tombol indeks di sebelah kiri untuk melihat daftar isi. Kerjakanlah setiap latihan soal agar kamu terbiasa memrogram. Jika kamu lelah istirahatlah sejenak. \n\nSelamat bersenang-senang !",
      "metadata": {}
    },
    {
      "cell_type": "markdown",
      "source": "# 1. Variabel",
      "metadata": {}
    },
    {
      "cell_type": "markdown",
      "source": "Bayangkan variabel sebagai kotak atau wadah yang bisa kamu gunakan untuk menyimpan informasi. Setiap kotak memiliki label (nama variabel) dan isi (nilai variabel). Misalnya, jika kamu punya sebuah kotak yang disebut \"umur\" dan kamu memasukkan nilai 10 ke dalamnya, maka \"umur\" akan menjadi variabel dengan nilai 10. \n\nSekarang gantilah variabel di bawah ini dengan nama dan umur kamu. \n\nTekan ( ctrl + enter ) untuk melihat hasilnya.",
      "metadata": {}
    },
    {
      "cell_type": "code",
      "source": "nama = \"Komeng\"\numur = 49\ntempat_tinggal = \"Sentul\"\ncita_cita = \"Bos Pabrik EsKrim Ternama\"\n    \nconsole.log( \"Hi guys !, nama saya \" + nama + \". Umur saya \" + umur + \" tahun.\" )\nconsole.log( \"Saya tinggal di : \" + tempat_tinggal )\nconsole.log( \"Cita-cita saya : \" + cita_cita )",
      "metadata": {
        "trusted": true
      },
      "outputs": [
        {
          "name": "stdout",
          "text": "Hi guys !, nama saya Komeng. Umur saya 49 tahun.\nSaya tinggal di : Sentul\nCita-cita saya : Bos Pabrik EsKrim Ternama\n",
          "output_type": "stream"
        },
        {
          "execution_count": 4,
          "output_type": "execute_result",
          "data": {},
          "metadata": {}
        }
      ],
      "execution_count": 4
    },
    {
      "cell_type": "markdown",
      "source": "⭐ Mantap !. Sekarang kita lanjut ke ekspresi & operator. ",
      "metadata": {}
    },
    {
      "cell_type": "markdown",
      "source": "# 2. Ekspresi & Operator\nEkspresi persis seperti di matematik. Yaitu kombinasi simbol, angka, dan variabel yang menghasilkan sesuatu. Ada beragam operator di JS. Saat ini kita fokus pada dua operator saja yaitu: operator aritmatik dan operator logika. \n\n## 2.1 Operator Aritmatika\n\nEkspresi ini melibatkan operator kali (*), bagi (/), tambah (+), kurang (-), dan modulo (%). Berikut contoh ekspresi aritmatika.\n\n```\nluas_segitiga = ( alas * tinggi ) / 2\n\nvolume_balok = panjang * lebar * tinggi\n\nhasil = 1 + 2 + 3 - 1\n\n7 % 2 = 3 ---> 7 / 2 = 3, sisa 1\n```\n\n* Semua baris contoh diatas kita sebut sebagai **ekspresi**.\n* luas, alas, tinggi, panjang, lebar, tinggi, hasil kita sebut sebagai **variabel**\n* \\* , / , + , - kita sebut sebagai **operator**\n* 1, 2, 3 kita sebut sebagai **operand** atau bisa juga **nilai** \n \n## 2.2 Operator Logika\n\nEkspresi logika di JS melibatkan 3 operator. Yaitu : \n1. AND ( && ). Ekspresi akan bernilai `benar atau true` jika semua variabel bernilai true.\n\n```\ncontoh: \n\ntrue && true // hasilnya true\ntrue && false // hasilnya false\n(1 + 2 == 3) && (3 * 3 == 9) && false // hasilnya false\n\numur = 13\ntinggi = 120\n( umur >= 10 ) && ( tinggi >= 120 ) // hasilnya true \n```\n\n2. OR ( || ). Ekspresi akan bernilai benar jika salah satu variabel ada yang bernilai true.\n\n```\ncontoh:\n\ntrue || true // hasilnya true\ntrue || false // hasilnya true\n\numur = 10\ntinggi = 90\n( umur >= 10 ) || ( tinggi > 120) // hasilnya true\n```\n\n3. !Ekpresi. Hasil dari ekspresi akan dinegasikan.\n\n```\ncontoh:\n\n!true // hasilnya false\n!false // hasilnya true\n```\n",
      "metadata": {}
    },
    {
      "cell_type": "markdown",
      "source": "**🕵️‍♂️ Contoh Kasus**\n\nPak Komeng adalah Bos pabrik Es Krim Uhuy. Ia punya cetakan es <u>berbentuk balok</u>. <u>Panjang, lebar, dan tinggi</u> cetakannya bisa diubah dengan fleksibel. Ia dapat pesanan dari Pak Jarwo dengan ukuran sebagai berikut: <u>panjang: 3, lebar: 2, dan tinggi: 0.5.</u> Pak jarwo pesan <u>sebanyak 100 pcs</u>. \n\nBantulah Pak Komeng membuat program untuk menghitung total_adonan es krim yang dibutuhkan untuk memproduksi pesanan tersebut.",
      "metadata": {}
    },
    {
      "cell_type": "code",
      "source": "// Karena bentuk cetakan adalah balok\n// Maka volumenya bisa kita hitung dengan cara: panjang * lebar * tinggi\n// Ukuran dalam satuan Cm\n\npanjang = 3 \nlebar = 2\ntinggi = 0.5\njumlah_pesanan = 100\n\nvolume_cetakan = (panjang * lebar * tinggi)\nconsole.log(\"Volume cetakan balok: \" + volume_cetakan + \" Cm3\")\n\nadonan_dibutuhkan = volume_cetakan * jumlah_pesanan\n\nconsole.log(\"Adonan yang pak komeng butuhkan hari ini adalah: \" + adonan_dibutuhkan.toFixed(2) + ' Cm3')   ",
      "metadata": {
        "trusted": true
      },
      "outputs": [
        {
          "name": "stdout",
          "text": "Volume cetakan balok: 3 Cm3\nAdonan yang pak komeng butuhkan hari ini adalah: 300.00 Cm3\n",
          "output_type": "stream"
        },
        {
          "execution_count": 2,
          "output_type": "execute_result",
          "data": {},
          "metadata": {}
        }
      ],
      "execution_count": 2
    },
    {
      "cell_type": "markdown",
      "source": "**👩‍🔬 Latihan**\n\nPak Komeng kali ini dapat pesanan dari Cing Abdel. Ia ingin buat eskrim untuk acara ultah anaknya. Ia ingin Es Krimnya berbentuk kerucut. Berikut spek pesanan Cing Abdel. Ukuran kerucut -> radius: 5 cm, tinggi: 7 cm. Jumlah pesanan: 150 pcs.  \n\nBantulah pak komeng menghitung total_adonan yang dibutuhkan.",
      "metadata": {}
    },
    {
      "cell_type": "code",
      "source": "// Tulis program kamu disini, \n// 💡 Petunjuk: kopi paste dari contoh kasus\n// 💡 Petunjuk: vol_kerucut = 1/3 * phi * radius * radius * tinggi",
      "metadata": {
        "trusted": true
      },
      "outputs": [
        {
          "execution_count": 1,
          "output_type": "execute_result",
          "data": {},
          "metadata": {}
        }
      ],
      "execution_count": 1
    },
    {
      "cell_type": "markdown",
      "source": "⭐ Kamu Hebat !. Sekarang mari kita masuk ke percabangan. ",
      "metadata": {}
    },
    {
      "cell_type": "markdown",
      "source": "# 3.Percabangan (Jika, Maka, Selainnya)\n\nKonsep ini persis seperti pengambilan keputusan. Suatu perintah baru akan dieksekusi jika ekspresi kondisinya terpenuhi. Misalnya:  \n```\nJika saldo_cukup maka:\n    izinkan_transfer()\n\nJika not_A_ditekan maka:\n    mainkan_frekuensi(440)\n\nJika pelatuk_ditekan && (peluru >= 0)  maka:\n    lepaskan_peluru()\nselainnya:\n    notif_player('peluru habis bos !')\n```\n\nDalam pemrograman, konsep ini kita terapkan dengan dengan sintaks if, else. Berikut adalah sintaks untuk contoh di atas:\n\n```\n    if (saldo_cukup) {\n        izinkan_transfer()\n    }\n\n    if (not_A_ditekan) {\n        mainkan_frekuensi(440)\n    }\n\n    if (pelatuk_ditekan && (peluru >= 0)) {\n        mainkan_frekuensi(440)\n    } else {\n        notif_player('peluru habis bos !')\n    }\n```",
      "metadata": {}
    },
    {
      "cell_type": "markdown",
      "source": "**🕵️‍♂️ Contoh Kasus**. \n\nUntuk menaikkan loyalitas pelanggan, Pak Komeng ingin jika jumlah pesanan diatas 1000 pcs maka ia berikan pelanggan bonus 30 pcs. Jika pesanan antara 500 & 1000, berikan bonus 10 pcs. Selainnya tetap produksi sesuai jumlah pesanan. \n\nBantulah Pak Komeng memodifikasi programnya.",
      "metadata": {}
    },
    {
      "cell_type": "code",
      "source": "jumlah_pesanan = 200\ntotal_produksi = 0\n\nif (jumlah_pesanan > 1000 ) {\n    \n   total_produksi = jumlah_pesanan + 20\n   console.log('Pelanggan dapat bonus. total produksi jadi: ' + total_produksi)\n    \n} else if (jumlah_pesanan >= 500 && jumlah_pesanan <= 1000 ) {\n    \n    total_produksi = jumlah_pesanan + 10\n    console.log('Pelanggan dapat bonus. total produksi jadi: ' + total_produksi)\n    \n} else {\n    \n   console.log('Ya.. gak dapet bonus, tetap produksi sebanyak: ' + jumlah_pesanan)\n\n}",
      "metadata": {
        "trusted": true
      },
      "outputs": [
        {
          "name": "stdout",
          "text": "Ya.. gak dapet bonus, tetap produksi sebanyak: 200\n",
          "output_type": "stream"
        },
        {
          "execution_count": 1,
          "output_type": "execute_result",
          "data": {},
          "metadata": {}
        }
      ],
      "execution_count": 1
    },
    {
      "cell_type": "markdown",
      "source": "**👩‍🔬 Latihan**\n\nBerhubung bulan ramadhan, Pak Komeng ingin bersedekah pada pelanggannya. Ia ingin merubah sistem bonus. Ia ingin jika jumlah pesanan diatas 1000 pcs maka ia berikan pelanggan bonus 40 pcs. Jika pesanan antara 500 & 1000, berikan bonus 20 pcs. Jika pesanan antara 100 & 200 pcs ia berikan bonus 10 pcs. Selainnya tetap produksi seperti biasa. \n\nModifikasi program pak komeng agar mesin dapat bekerja sesuai dengan kebijakan yang baru.\n",
      "metadata": {}
    },
    {
      "cell_type": "code",
      "source": "// Tulis program kamu disini. \n// 💡 Petunjuk: kopi paste dari contoh kasus, tambahkan blok else if baru.\n// 💡 tekan ctrl + enter untuk melihat hasil.",
      "metadata": {
        "trusted": true
      },
      "outputs": [
        {
          "execution_count": 2,
          "output_type": "execute_result",
          "data": {},
          "metadata": {}
        }
      ],
      "execution_count": 2
    },
    {
      "cell_type": "markdown",
      "source": "⭐ Brilian !. Yuk lanjut ke perulangan.\n",
      "metadata": {}
    },
    {
      "cell_type": "markdown",
      "source": "# Perulangan\nBiasa juga kita sebut sebagai loop. Konsep ini digunakan saat perlu mengerjakan tugas berulang kali. Misalnya, kamu diminta untuk menggambar lingkaran 10 kali. Daripada lingkaran digambar satu per satu, kamu bisa buat sebuah perulangan, yang akan secara otomatis menggambar lingkaran sebanyak 10 kali. \n\nDalam pemrograman, kita gunakan perulangan untuk mengeksekusi serangkaian perintah berulang kali. ",
      "metadata": {}
    },
    {
      "cell_type": "markdown",
      "source": "**🕵️‍♂️ Contoh kasus**\n\nPak komeng ingin membuat eskrim rasa mangga sebanyak 5 buah. Secara naif kita bisa tulis program sebagai berikut: \n```\nbuat_eskrim('mangga')\nbuat_eskrim('mangga')\nbuat_eskrim('mangga')\nbuat_eskrim('mangga')\nbuat_eskrim('mangga')\n```\n\nTetapi pelanggan pak komeng jumlahnya sudah ribuan outlet !. Bagaimana jika beliau ingin cetak rasa mangga sebanyak 10, 100, atau 1000 kali dalam tiap detik ? Tentu kita tidak mungkin tulis <code>buat_eskrim('mangga')</code> sebanyak 10,100, atau 1000 kali. Kita bisa gunakan perulangan untuk mengotomasi problem ini. \n\nBerikut kode untuk mengotomasi proses cetak eskrim sebanyak jumlah yg diinginkan.\n",
      "metadata": {}
    },
    {
      "cell_type": "code",
      "source": "jumlah_cetak = 10 \nfor ( i = 1; i <= jumlah_cetak; i++ ) {  \n    console.log('ini adalah 🍦 mangga ke ' + i )\n}",
      "metadata": {
        "trusted": true
      },
      "outputs": [
        {
          "name": "stdout",
          "text": "ini adalah 🍦 mangga ke 1\nini adalah 🍦 mangga ke 2\nini adalah 🍦 mangga ke 3\nini adalah 🍦 mangga ke 4\nini adalah 🍦 mangga ke 5\nini adalah 🍦 mangga ke 6\nini adalah 🍦 mangga ke 7\nini adalah 🍦 mangga ke 8\nini adalah 🍦 mangga ke 9\nini adalah 🍦 mangga ke 10\n",
          "output_type": "stream"
        },
        {
          "execution_count": 6,
          "output_type": "execute_result",
          "data": {},
          "metadata": {}
        }
      ],
      "execution_count": 6
    },
    {
      "cell_type": "markdown",
      "source": "**👩‍🔬 Latihan**\n\nCetak \"ini adalah eskrim coklat kacang ke - N\" sebanyak 100 kali. Tambahkan \"emoji eskrim\" ketika pengulangan genap. selainnya cetak kata seperti biasa.\n\nContoh output: \n```\nini adalah eskrim mangga ke 1\nini adalah 🍦 mangga ke 2\nini adalah eskrim mangga ke 3\nini adalah 🍦 mangga ke 4\ndst\n```",
      "metadata": {}
    },
    {
      "cell_type": "code",
      "source": "/*\nTulis program kamu disini. \n💡 Petunjuk: kopi paste dari contoh kasus. Dalam blok pengulangan gunakan if else, dan operator % (modulus) \n             untuk memeriksa apakah pengulangan bertipe ganjil atau genap \n💡 tekan ctrl + enter untuk melihat hasil.\n*/",
      "metadata": {
        "trusted": true
      },
      "outputs": [
        {
          "execution_count": 7,
          "output_type": "execute_result",
          "data": {},
          "metadata": {}
        }
      ],
      "execution_count": 7
    },
    {
      "cell_type": "markdown",
      "source": "⭐ Kamu memang luar biasa !. Tinggal Sisa dua lagi ni. Yuk lanjut ke fungsi.",
      "metadata": {}
    },
    {
      "cell_type": "markdown",
      "source": "# Fungsi\n\nFungsi adalah kumpulan perintah yang dapat kamu panggil dan gunakan berulang kali. Fungsi digunakan agar program bisa kita susun dengan apik dan efisien.\n\nPada bagian percetakan es krim, tentu cetakannya punya beragam jenis bentuk. Ada kerucut, bola, balok, dsb. Setiap bentuk memiliki formula untuk menghitung volumenya masing-masing. \n\nBentuk cetak tersebut bisa kita susun dalam sebuah fungsi. Sehingga kelak jika dibutuhkan, kita cukup panggil saja fungsi tersebut, tanpa harus menulis semua kodenya secara berulang-ulang. ",
      "metadata": {}
    },
    {
      "cell_type": "markdown",
      "source": "**🕵️‍♂️ Contoh Kasus**\n\nPabrik Pak komeng mendapat pesanan 500 eskrim bentuk kerucut, dan 750 eskrim mochi bentuk bola. Berikut adalah spesifikasi bentuk cetakan : \n```\ncetakan kerucut:\n - radius = 3 cm \n - tinggi = 4 cm\n\ncetakan bola mochi:\n - radius = 2 cm.\n - tinggi = 2 cm. \n```\nTulislah program agar mesin dapat menghitung total volume adonan berdasarkan jumlah pesanan yang diterima.",
      "metadata": {}
    },
    {
      "cell_type": "code",
      "source": "function volume_kerucut( radius, tinggi, jumlah_pesanan ) {\n    volume = ( 3.14 * ( radius * radius ) * tinggi ) / 3\n    total = volume * jumlah_pesanan\n    return total\n}\n\nfunction volume_bola( radius, jumlah_pesanan ) {\n    volume = 4/3 * 3.14 * ( radius * radius * radius)\n    total = volume * jumlah_pesanan\n    return total\n}\n\nvol_cetakan_kerucut = volume_kerucut( 3, 4, 500 )\nvol_cetakan_bola = volume_bola( 2, 2, 750 )\n\ntotal_adonan = vol_cetakan_kerucut + vol_cetakan_bola\n\nconsole.log('Total adonan yang dibutuhkan sebanyak: ' + total_adonan.toFixed(2) + ' cm3')",
      "metadata": {
        "trusted": true
      },
      "outputs": [
        {
          "name": "stdout",
          "text": "Total adonan yang dibutuhkan sebanyak: 18906.99 cm3\n",
          "output_type": "stream"
        },
        {
          "execution_count": 2,
          "output_type": "execute_result",
          "data": {},
          "metadata": {}
        }
      ],
      "execution_count": 2
    },
    {
      "cell_type": "markdown",
      "source": "Pada kode di atas,volume kerucut dan bola kita susun dalam fungsi terpisah. Perhatikan baris \n```\ntotal_adonan = vol_cetakan_kerucut + vol_cetakan_bola\n``` \n\nDengan teknik fungsi, baris tersebut jadi lebih apik, ketimbang kita tulis sebagai :\n```\ntotal_adonan = ( 3.14 * ( radius * radius ) * tinggi ) / 3 * jumlah_pesanan ) + ( 4/3 * 3.14 * ( radius * radius * radius) + jumlah_pesanan ) \n```\n\nApalagi kalau nanti pak komeng punya cetakan bentuk baru seperti balok, tabung, semangka, dst. Hiy... makin panjang saja itu baris total_adonan. \n",
      "metadata": {}
    },
    {
      "cell_type": "markdown",
      "source": "**👩‍🔬 Latihan**\n\nPabrik Pak komeng mendapat pesanan 350 eskrim bentuk kerucut, 750 eskrim mochi bentuk bola, dan 75 eskrim bentuk balok. Berikut adalah spesifikasi ukuran cetakan :\n\ncetakan kerucut:\n - radius = 2 cm \n - tinggi = 4 cm\n\ncetakan bola mochi:\n - radius = 3 cm.\n - tinggi = 3 cm.\n\ncetakan balok:\n - panjang = 2 cm.\n - tinggi = 3 cm. \n - lebar = 1 cm\n\nTulislah program agar mesin dapat menghitung total volume adonan berdasarkan jumlah pesanan yang diterima.",
      "metadata": {}
    },
    {
      "cell_type": "code",
      "source": "// Tulis program kamu disini. \n// 💡 Petunjuk: Kopi paste dari contoh kasus, tambahkan satu fungsi baru untuk menghitung vol balok. \n// 💡 tekan ctrl + enter untuk melihat hasil.\n",
      "metadata": {
        "trusted": true
      },
      "outputs": [
        {
          "execution_count": 9,
          "output_type": "execute_result",
          "data": {},
          "metadata": {}
        }
      ],
      "execution_count": 10
    },
    {
      "cell_type": "raw",
      "source": "⭐⭐⭐ Kamu memang tekun dan gigih !. Selanjutnya adalah konsep terakhir. ",
      "metadata": {}
    },
    {
      "cell_type": "markdown",
      "source": "# Array atau Komposisi\n\nBayangkan array seperti indeks barang dalam sebuah gudang. Berikut adalah indeks gudang eskrim pak komeng.\n\n```\nKode_Freezer  | Tipe_Eskrim\n----------------------------------------\n1             | Cokelat\n11            | Cokelat Kerucut\n12            | Cokelat Bola\n13            | Cokelat Balok\n2             | Stroberi\n21            | Stroberi Kerucut\n22            | Stroberi Bola\n23            | Stroberi Balok\n3             | Kacang Hijau\n31            | Kacang Hijau Kerucut\n32            | Kacang Hijau Bola\n33            | Kacang Hijau Balok \n```\n\n**🕵️‍♂️ Contoh Kasus**\n\nJika pak komeng ingin memeriksa \"kacang hijau bentuk bola\" di gudangnya, beliau cukup melihat nomer freezer 32. Selanjutnya ia cukup menuju lorong 3 yang berisi semua eskrim dengan rasa kacang hijau, dan membuka freezer urutan ke 2. Selesai !  \n\nCara ini tentu lebih cepat ketimbang pak komeng harus membuka satu per satu semua freezer yang ada di gudangnya. Sebuah kegiatan yang sungguh membagongkan tentunya. \n\nDalam pemrograman. \n- Tiap baris isi gudang kita sebut sebagai **elemen array**,\n- Kode_freezer adalah **indeks array**, dan\n- Tipe_Eskrim adalah **nilai array di indeks tersebut**.\n\nMudah kan.. \n\nDalam JS kita tulis sbb :",
      "metadata": {}
    },
    {
      "cell_type": "code",
      "source": "gudang = []\ngudang[1]  = 'Cokelat'\ngudang[11] = 'Cokelat Kerucut'\ngudang[12] = 'Cokelat Bola'\ngudang[13] = 'Cokelat Balok'\ngudang[2]  = 'Stroberi'\ngudang[21] = 'Stroberi Kerucut'\ngudang[22] = 'Stroberi Bola'\ngudang[23] = 'Stroberi Balok'\ngudang[3]  = 'Kacang Hijau'\ngudang[31] = 'Kacang Hijau Kerucut'\ngudang[32] = 'Kacang Hijau Bola'\ngudang[33] = 'Kacang Hijau Balok'\n\n// Akses elemen Stroberi Balok\nconsole.log(gudang[23])\n\n// Akses elemen Coklat Balok\nconsole.log(gudang[13])\n",
      "metadata": {
        "trusted": true
      },
      "outputs": [
        {
          "name": "stdout",
          "text": "Stroberi Balok\nCokelat Balok\n",
          "output_type": "stream"
        },
        {
          "execution_count": 10,
          "output_type": "execute_result",
          "data": {},
          "metadata": {}
        }
      ],
      "execution_count": 11
    },
    {
      "cell_type": "markdown",
      "source": "**👩‍🔬 Latihan**\n\n- Tambahkan \"Kacang hijau tabung\" dengan kode 34 kedalam gudang.\n- Cetak semua isi gudang.",
      "metadata": {}
    },
    {
      "cell_type": "code",
      "source": "// Tulis program kamu disini. \n// 💡 Petunjuk: Kopi paste dari contoh kasus\n// 💡 tekan ctrl + enter untuk melihat hasil.\n",
      "metadata": {
        "trusted": true
      },
      "outputs": [
        {
          "execution_count": 3,
          "output_type": "execute_result",
          "data": {},
          "metadata": {}
        }
      ],
      "execution_count": 3
    },
    {
      "cell_type": "markdown",
      "source": "# Tugas Akhir\n\nPak komeng mendapatkan pesanan dari Komunitas Pecinta Musang, dengan spesifikasi sebagai berikut. \n\n```\nNo Rasa           Jumlah  Bentuk     Catatan Khusus\n-------------------------------------------------------------------------------------\n1  Vanilla        100     Kerucut    tambah label \"asik\" untuk setiap iterasi genap\n1  Kacang Hijau    50     Bola       tambah label \"jos\" untuk setiap iterasi ganjil\n3  Coklat Kacang   80     Kerucut    khusus iterasi ke-7 tambah label \"anda beruntung\" \n```\n\nTugas:\n\nBuatlah program agar mesin es-krim pak komeng bisa memproses pesanan ini.\n\n1. Buat fungsi untuk mencetak perintah order ke bagian produksi dengan format sbb:\n```\nNo Rasa           Jumlah  Bentuk     Volume dibutuhkan ( cm3)\n---------------------------------------------------\n1  Vanilla        100     Segitiga   3768.00 \n1  Kacang Hijau    50     Bola       66.99 \n3  Coklat Kacang   80     Segitiga   3014.40\n---------------------------------------------------\n\nTotal = 6849.39 cm3 \n```\n\n2. Buat fungsi untuk mencetak eskrim sesuai \"catatan khusus\". gunakan output sbb:\n```\nContoh Pesanan ke #1 Vanilla\n  🍦 vanilla ke - 1\n  🍦 vanilla ke - 2 ( asik )\n  🍦 vanilla ke - 3\n  🍦 vanilla ke - 4 ( asik )\n```\n\nGunakan semua konsep: variabel, if else, loop, function, dan array.",
      "metadata": {}
    },
    {
      "cell_type": "code",
      "source": "// Fungsi untuk mencetak perintah order ke bagian produksi",
      "metadata": {
        "trusted": true
      },
      "outputs": [
        {
          "execution_count": 11,
          "output_type": "execute_result",
          "data": {},
          "metadata": {}
        }
      ],
      "execution_count": 12
    },
    {
      "cell_type": "code",
      "source": "// Fungsi untuk mencetak eskrim sesuai \"catatan khusus\". ",
      "metadata": {
        "trusted": true
      },
      "outputs": [
        {
          "execution_count": 12,
          "output_type": "execute_result",
          "data": {},
          "metadata": {}
        }
      ],
      "execution_count": 13
    },
    {
      "cell_type": "markdown",
      "source": "# Referensi\n* https://developer.mozilla.org/en-US/docs/Web/JavaScript/Guide\n",
      "metadata": {}
    },
    {
      "cell_type": "markdown",
      "source": "# Selamat\n\nSelamat !! ✨ kamu sudah berhasil menguasai dasar pemrograman menggunakan javascript. \n\nPetualangan baru saja dimulai ! \n\nSelamat mengembara di dunia software engineering !",
      "metadata": {}
    }
  ]
}
